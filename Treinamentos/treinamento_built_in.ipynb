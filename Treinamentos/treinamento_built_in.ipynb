{
  "nbformat": 4,
  "nbformat_minor": 0,
  "metadata": {
    "colab": {
      "name": "treinamento.ipynb",
      "provenance": []
    },
    "kernelspec": {
      "name": "python3",
      "display_name": "Python 3"
    },
    "language_info": {
      "name": "python"
    }
  },
  "cells": [
    {
      "cell_type": "code",
      "metadata": {
        "colab": {
          "base_uri": "https://localhost:8080/"
        },
        "id": "zv-ZrOrE7MDr",
        "outputId": "bb74a152-3df3-462b-aaab-28e7a2d56d84"
      },
      "source": [
        "# Dicionário mais uso de lambda\n",
        "usuarios = [\n",
        "{\"first_name\": \"Helen\", \"age\": 39},\n",
        "{\"first_name\": \"Buck\", \"age\": 40},\n",
        "{\"first_name\": \"Leo\",\"age\":50}\n",
        "]\n",
        "usuarios_ordenados_pelos_nome = sorted(usuarios,key = lambda u: u[\"first_name\"].lower())\n",
        "usuarios_ordenados_pelos_nome"
      ],
      "execution_count": 96,
      "outputs": [
        {
          "output_type": "execute_result",
          "data": {
            "text/plain": [
              "[{'age': 40, 'first_name': 'Buck'},\n",
              " {'age': 39, 'first_name': 'Helen'},\n",
              " {'age': 50, 'first_name': 'Leo'}]"
            ]
          },
          "metadata": {
            "tags": []
          },
          "execution_count": 96
        }
      ]
    },
    {
      "cell_type": "code",
      "metadata": {
        "colab": {
          "base_uri": "https://localhost:8080/"
        },
        "id": "a9u2Co0OtoTo",
        "outputId": "621da26e-5f51-4865-c768-26ed5b23789b"
      },
      "source": [
        "filmes = [\n",
        "          {\"nome\": \"O segredo dos seus olhos\", \"genero\": \"drama\", \"nota\": 10},\n",
        "          {\"nome\":\"os jogos mortais\", \"genero\": \"terror\", \"nota\": 8},\n",
        "          {\"nome\": \"Magnólia\", \"genero\": \"historico\", \"nota\": 9},\n",
        "          {\"nome\":\"soul\",\"genero\": \"animação\", \"nota\": 10}\n",
        "]\n",
        "\n",
        "filmes = sorted(filmes, key = lambda f: f['nome'].lower())\n",
        "filmes\n",
        "\n"
      ],
      "execution_count": 97,
      "outputs": [
        {
          "output_type": "execute_result",
          "data": {
            "text/plain": [
              "[{'genero': 'historico', 'nome': 'Magnólia', 'nota': 9},\n",
              " {'genero': 'drama', 'nome': 'O segredo dos seus olhos', 'nota': 10},\n",
              " {'genero': 'terror', 'nome': 'os jogos mortais', 'nota': 8},\n",
              " {'genero': 'animação', 'nome': 'soul', 'nota': 10}]"
            ]
          },
          "metadata": {
            "tags": []
          },
          "execution_count": 97
        }
      ]
    },
    {
      "cell_type": "code",
      "metadata": {
        "id": "HfCba6R0SWtg"
      },
      "source": [
        "# Função lambda\n",
        "def retorna_nome_minusculo(usuarios):\n",
        "  return usuarios['first_name'].lower()\n",
        "\n",
        "usuarios_ordenados_pelo_nome = sorted(usuarios,key=retorna_nome_minusculo)"
      ],
      "execution_count": 98,
      "outputs": []
    },
    {
      "cell_type": "code",
      "metadata": {
        "colab": {
          "base_uri": "https://localhost:8080/",
          "height": 35
        },
        "id": "znzrlLU6eX5J",
        "outputId": "c127d6e0-071e-4466-b0ab-b6751bd6f01a"
      },
      "source": [
        "# Método join une as strings, neste exemplo une por meio de espaço\n",
        "primeiro_nome =\"Paola\"\n",
        "ultimo_nome = \"Maria\"\n",
        "teste = \"Alencar\"\n",
        "\n",
        "nome_completo = \" \".join([primeiro_nome,ultimo_nome,teste])\n",
        "\n",
        "nome_completo"
      ],
      "execution_count": 99,
      "outputs": [
        {
          "output_type": "execute_result",
          "data": {
            "application/vnd.google.colaboratory.intrinsic+json": {
              "type": "string"
            },
            "text/plain": [
              "'Paola Maria Alencar'"
            ]
          },
          "metadata": {
            "tags": []
          },
          "execution_count": 99
        }
      ]
    },
    {
      "cell_type": "code",
      "metadata": {
        "colab": {
          "base_uri": "https://localhost:8080/",
          "height": 35
        },
        "id": "oGhDmbnSEfMh",
        "outputId": "2655a2fd-c9bd-4f7b-9a00-7c04b617d2f4"
      },
      "source": [
        "# Método join une as strings, neste exemplo une por meio de *\n",
        "sujeito = \"Eu\"\n",
        "verbo =\"gosto\"\n",
        "objeto = \"de você\"\n",
        "\n",
        "frase = \"*\".join([sujeito,verbo,objeto])\n",
        "frase"
      ],
      "execution_count": 100,
      "outputs": [
        {
          "output_type": "execute_result",
          "data": {
            "application/vnd.google.colaboratory.intrinsic+json": {
              "type": "string"
            },
            "text/plain": [
              "'Eu*gosto*de você'"
            ]
          },
          "metadata": {
            "tags": []
          },
          "execution_count": 100
        }
      ]
    },
    {
      "cell_type": "code",
      "metadata": {
        "colab": {
          "base_uri": "https://localhost:8080/"
        },
        "id": "EMhEBJ5teYd1",
        "outputId": "f7ed907e-c597-4ea6-9e03-4bc5fff9fb90"
      },
      "source": [
        "# Utilização de List Comprension\n",
        "lista_antiga =[1,2,3,4,5]\n",
        "\n",
        "nova_lista = [item*3 for item in lista_antiga]\n",
        "nova_lista"
      ],
      "execution_count": 101,
      "outputs": [
        {
          "output_type": "execute_result",
          "data": {
            "text/plain": [
              "[3, 6, 9, 12, 15]"
            ]
          },
          "metadata": {
            "tags": []
          },
          "execution_count": 101
        }
      ]
    },
    {
      "cell_type": "code",
      "metadata": {
        "colab": {
          "base_uri": "https://localhost:8080/"
        },
        "id": "kadKbEu-i4Dl",
        "outputId": "7351a224-a079-410d-e763-2a2dac51343e"
      },
      "source": [
        "# Utilização de Função \n",
        "lista_antiga = [1,2,3,4,5]\n",
        "\n",
        "def multiplica_lista_por_2(lista):\n",
        "  nova_lista =[]\n",
        "  for i in lista:\n",
        "    nova_lista.append(i*2)\n",
        "\n",
        "  return nova_lista\n",
        "\n",
        "lista_nova = multiplica_lista_por_2(lista_antiga)\n",
        "\n",
        "lista_nova"
      ],
      "execution_count": 102,
      "outputs": [
        {
          "output_type": "execute_result",
          "data": {
            "text/plain": [
              "[2, 4, 6, 8, 10]"
            ]
          },
          "metadata": {
            "tags": []
          },
          "execution_count": 102
        }
      ]
    },
    {
      "cell_type": "code",
      "metadata": {
        "colab": {
          "base_uri": "https://localhost:8080/"
        },
        "id": "8uQTCzeHFKTd",
        "outputId": "21ec8192-4fe4-4603-af2c-9be4bc9d380e"
      },
      "source": [
        "# Equação\n",
        "\n",
        "lista = [1,2,3,4]\n",
        "\n",
        "nova_lista = [item*2 + 2  for item in lista]\n",
        "nova_lista"
      ],
      "execution_count": 103,
      "outputs": [
        {
          "output_type": "execute_result",
          "data": {
            "text/plain": [
              "[4, 6, 8, 10]"
            ]
          },
          "metadata": {
            "tags": []
          },
          "execution_count": 103
        }
      ]
    },
    {
      "cell_type": "code",
      "metadata": {
        "colab": {
          "base_uri": "https://localhost:8080/"
        },
        "id": "3XuYyFP-HZex",
        "outputId": "aafac2b7-493d-4048-9b1c-72b445603a73"
      },
      "source": [
        "# Função de uma equação\n",
        "lista1 = [1,2,3,4]\n",
        "\n",
        "def equacao(lista):\n",
        "  nova_lista = []\n",
        "  for valor in lista:\n",
        "    nova_lista.append(valor*2+2)\n",
        "\n",
        "  return nova_lista\n",
        "lista_nova = equacao(lista1)\n",
        "lista_nova"
      ],
      "execution_count": 104,
      "outputs": [
        {
          "output_type": "execute_result",
          "data": {
            "text/plain": [
              "[4, 6, 8, 10]"
            ]
          },
          "metadata": {
            "tags": []
          },
          "execution_count": 104
        }
      ]
    },
    {
      "cell_type": "code",
      "metadata": {
        "colab": {
          "base_uri": "https://localhost:8080/"
        },
        "id": "1Fsv0l2Njo4S",
        "outputId": "8318f0e6-69a5-47c2-fb4e-83a81b76d37c"
      },
      "source": [
        "# Utilização de List Comprenshion \n",
        "idades = [1,60,20,24,56,34,101]\n",
        "\n",
        "nova_lista = [ idade for idade in idades if idade >10 and idade<100]\n",
        "nova_lista\n"
      ],
      "execution_count": 105,
      "outputs": [
        {
          "output_type": "execute_result",
          "data": {
            "text/plain": [
              "[60, 20, 24, 56, 34]"
            ]
          },
          "metadata": {
            "tags": []
          },
          "execution_count": 105
        }
      ]
    },
    {
      "cell_type": "code",
      "metadata": {
        "colab": {
          "base_uri": "https://localhost:8080/"
        },
        "id": "JUAnFdUjJoRh",
        "outputId": "31d1160b-a308-4e3a-89b2-dd9395f96c81"
      },
      "source": [
        "nota = [1,10,5,7,6,3,4,9,20]\n",
        "\n",
        "nova_lista = [nota for nota in nota if nota >5 and nota<=10]\n",
        "nova_lista"
      ],
      "execution_count": 106,
      "outputs": [
        {
          "output_type": "execute_result",
          "data": {
            "text/plain": [
              "[10, 7, 6, 9]"
            ]
          },
          "metadata": {
            "tags": []
          },
          "execution_count": 106
        }
      ]
    },
    {
      "cell_type": "code",
      "metadata": {
        "colab": {
          "base_uri": "https://localhost:8080/"
        },
        "id": "5yJIgmNiJ9Kc",
        "outputId": "d0776871-e68f-47a9-d2de-bb2e424b7762"
      },
      "source": [
        "nota = [1,10,5,7,6,3,4,9,20]\n",
        "\n",
        "def quantidade_notas(notas):\n",
        "  nova_lista =[]\n",
        "  for i in notas:\n",
        "    nova_lista.append(i)\n",
        "    if i > 5 and i <=10:\n",
        "      print(i)\n",
        "\n",
        "lista = quantidade_notas(nota)\n",
        "lista"
      ],
      "execution_count": 107,
      "outputs": [
        {
          "output_type": "stream",
          "text": [
            "10\n",
            "7\n",
            "6\n",
            "9\n"
          ],
          "name": "stdout"
        }
      ]
    },
    {
      "cell_type": "code",
      "metadata": {
        "colab": {
          "base_uri": "https://localhost:8080/"
        },
        "id": "4ilaiLa9kcBw",
        "outputId": "779e2bf8-35d8-4198-b62d-0edbb090fb8f"
      },
      "source": [
        "#Enumerate pegando indices \n",
        "pontos = [20,25,66,71,27,14]\n",
        "\n",
        "for indice, ponto in enumerate(pontos):\n",
        "    print(indice, ponto)"
      ],
      "execution_count": 108,
      "outputs": [
        {
          "output_type": "stream",
          "text": [
            "0 20\n",
            "1 25\n",
            "2 66\n",
            "3 71\n",
            "4 27\n",
            "5 14\n"
          ],
          "name": "stdout"
        }
      ]
    },
    {
      "cell_type": "code",
      "metadata": {
        "colab": {
          "base_uri": "https://localhost:8080/"
        },
        "id": "ldTOvoUOMY-E",
        "outputId": "d1eae090-9cf0-4e53-8a76-d1e2253414da"
      },
      "source": [
        "#Enumerate pegando indices\n",
        "lista_nomes = ['Maria','Lucas','Anita']\n",
        "\n",
        "for indice,nomes in enumerate(lista_nomes):\n",
        "  print(indice,nomes)"
      ],
      "execution_count": 109,
      "outputs": [
        {
          "output_type": "stream",
          "text": [
            "0 Maria\n",
            "1 Lucas\n",
            "2 Anita\n"
          ],
          "name": "stdout"
        }
      ]
    },
    {
      "cell_type": "code",
      "metadata": {
        "colab": {
          "base_uri": "https://localhost:8080/"
        },
        "id": "VjGlCIJRli3o",
        "outputId": "454942d8-dd28-4d0f-d46c-af71e590a6b1"
      },
      "source": [
        "pessoas = [\"Fabio\", \"Alexandre\",\"Ana\"]\n",
        "idades = [29,30,27]\n",
        "\n",
        "maior_idade = 0\n",
        "\n",
        "#Método zip que retorna uma lista de tuplas, percorre duas ou mais sequencias\n",
        "for pessoa, idade in zip(pessoas, idades):\n",
        "  if idade>maior_idade:\n",
        "    pessoa_mais_velha = pessoa\n",
        "    maior_idade = idade\n",
        "  \n",
        "print(f\"Pessoa mais velha:{pessoa_mais_velha}\")\n",
        "\n"
      ],
      "execution_count": 110,
      "outputs": [
        {
          "output_type": "stream",
          "text": [
            "Pessoa mais velha:Alexandre\n"
          ],
          "name": "stdout"
        }
      ]
    },
    {
      "cell_type": "code",
      "metadata": {
        "colab": {
          "base_uri": "https://localhost:8080/"
        },
        "id": "lyonSE06tJt9",
        "outputId": "a130840c-c693-4869-cfea-6b2f9358088e"
      },
      "source": [
        "nome1 = ['Maria','Ana','Lucas','Ricardo']\n",
        "nome2 = ['José','Paula','Jonas','Antenor']\n",
        "\n",
        "for x in zip(nome1,nome2):\n",
        "  print(x)\n"
      ],
      "execution_count": 111,
      "outputs": [
        {
          "output_type": "stream",
          "text": [
            "('Maria', 'José')\n",
            "('Ana', 'Paula')\n",
            "('Lucas', 'Jonas')\n",
            "('Ricardo', 'Antenor')\n"
          ],
          "name": "stdout"
        }
      ]
    },
    {
      "cell_type": "code",
      "metadata": {
        "id": "ooFKc4J3N_Co"
      },
      "source": [
        ""
      ],
      "execution_count": null,
      "outputs": []
    }
  ]
}