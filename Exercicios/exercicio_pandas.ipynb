{
  "nbformat": 4,
  "nbformat_minor": 0,
  "metadata": {
    "colab": {
      "name": "exercicio_pandas.ipynb",
      "provenance": []
    },
    "kernelspec": {
      "name": "python3",
      "display_name": "Python 3"
    },
    "language_info": {
      "name": "python"
    }
  },
  "cells": [
    {
      "cell_type": "code",
      "metadata": {
        "id": "YG17ujO6EThk"
      },
      "source": [
        "import pandas as pd\n",
        "import numpy as np\n",
        "import matplotlib as plt"
      ],
      "execution_count": 2,
      "outputs": []
    },
    {
      "cell_type": "code",
      "metadata": {
        "id": "VC_uv_bZEtGs"
      },
      "source": [
        "df = pd.read_csv('net.csv')"
      ],
      "execution_count": 3,
      "outputs": []
    },
    {
      "cell_type": "code",
      "metadata": {
        "colab": {
          "base_uri": "https://localhost:8080/"
        },
        "id": "IO_MkCLxE6Mk",
        "outputId": "83a266b3-e57e-425c-f1a7-8c90fed4368e"
      },
      "source": [
        "# // What are the column names and their types?\n",
        "df.info()\n",
        "\n",
        "# Date - string, Open - float64, Hight -  float 64, Low - float 64, Close  - float64, \n",
        "#Volume - int 64, Adj Close - float 64"
      ],
      "execution_count": 4,
      "outputs": [
        {
          "output_type": "stream",
          "text": [
            "<class 'pandas.core.frame.DataFrame'>\n",
            "RangeIndex: 1259 entries, 0 to 1258\n",
            "Data columns (total 7 columns):\n",
            " #   Column     Non-Null Count  Dtype  \n",
            "---  ------     --------------  -----  \n",
            " 0   Date       1259 non-null   object \n",
            " 1   Open       1259 non-null   float64\n",
            " 2   High       1259 non-null   float64\n",
            " 3   Low        1259 non-null   float64\n",
            " 4   Close      1259 non-null   float64\n",
            " 5   Volume     1259 non-null   int64  \n",
            " 6   Adj Close  1259 non-null   float64\n",
            "dtypes: float64(5), int64(1), object(1)\n",
            "memory usage: 69.0+ KB\n"
          ],
          "name": "stdout"
        }
      ]
    },
    {
      "cell_type": "code",
      "metadata": {
        "id": "gY40EZt1KggY"
      },
      "source": [
        "texto= \"-\" \n",
        " \n",
        "df['Date'] = df['Date'].str.replace(texto, '')"
      ],
      "execution_count": 25,
      "outputs": []
    },
    {
      "cell_type": "code",
      "metadata": {
        "id": "Kr-fWX7Mof5d"
      },
      "source": [
        " #df['ano'] = df['Date'].str[0:4]\n",
        " df['mes'] =df['Date'].str[4:6]\n",
        " df['dia'] = df['Date'].str[6:8]"
      ],
      "execution_count": 30,
      "outputs": []
    },
    {
      "cell_type": "code",
      "metadata": {
        "id": "GwxTwJpgEv_q"
      },
      "source": [
        "# // Create a new dataframe with a column called HV Ratio that\n",
        "# // is the ratio of the High Price versus volume of stock traded\n",
        "# // for a day.\n",
        "\n",
        "df_new = pd.DataFrame(df['High']* df['Volume'], columns=['HV Ratio '])\n"
      ],
      "execution_count": 5,
      "outputs": []
    },
    {
      "cell_type": "code",
      "metadata": {
        "colab": {
          "base_uri": "https://localhost:8080/"
        },
        "id": "8vZRb7BaTeAl",
        "outputId": "bda17f85-2527-4ca3-9158-a86348e18dd4"
      },
      "source": [
        "# What day had the Peak High in Price?\n",
        "\n",
        "df[df['High'] == df['High'].max()]['dia']"
      ],
      "execution_count": 52,
      "outputs": [
        {
          "output_type": "execute_result",
          "data": {
            "text/plain": [
              "933    13\n",
              "Name: dia, dtype: object"
            ]
          },
          "metadata": {
            "tags": []
          },
          "execution_count": 52
        }
      ]
    },
    {
      "cell_type": "code",
      "metadata": {
        "colab": {
          "base_uri": "https://localhost:8080/"
        },
        "id": "gAZjKg1UE7lJ",
        "outputId": "fb1bceae-370b-40a2-ce81-eca3fe033c4a"
      },
      "source": [
        "# What is the mean of the Close column?\n",
        "\n",
        "df['Close'].mean()"
      ],
      "execution_count": 6,
      "outputs": [
        {
          "output_type": "execute_result",
          "data": {
            "text/plain": [
              "230.522453845909"
            ]
          },
          "metadata": {
            "tags": []
          },
          "execution_count": 6
        }
      ]
    },
    {
      "cell_type": "code",
      "metadata": {
        "colab": {
          "base_uri": "https://localhost:8080/"
        },
        "id": "4ATsK54dE_wR",
        "outputId": "446e6770-332f-44b4-83a7-b6c796944e57"
      },
      "source": [
        "# What is the max and min of the Volume column?\n",
        "\n",
        "df['Volume'].max()\n",
        "df['Volume'].min()"
      ],
      "execution_count": 7,
      "outputs": [
        {
          "output_type": "execute_result",
          "data": {
            "text/plain": [
              "3531300"
            ]
          },
          "metadata": {
            "tags": []
          },
          "execution_count": 7
        }
      ]
    },
    {
      "cell_type": "code",
      "metadata": {
        "colab": {
          "base_uri": "https://localhost:8080/"
        },
        "id": "O1J9RAPyH3Qr",
        "outputId": "5e44074a-a174-4cad-e5ae-8ec87414818f"
      },
      "source": [
        "# How many days was the Close lower than $ 600?\n",
        "df[df['Close'] < 600]['Date'].count()"
      ],
      "execution_count": 8,
      "outputs": [
        {
          "output_type": "execute_result",
          "data": {
            "text/plain": [
              "1218"
            ]
          },
          "metadata": {
            "tags": []
          },
          "execution_count": 8
        }
      ]
    },
    {
      "cell_type": "code",
      "metadata": {
        "colab": {
          "base_uri": "https://localhost:8080/"
        },
        "id": "WOUJO4VrIYD5",
        "outputId": "e6223c30-faef-4478-dfec-4f1776f9bb54"
      },
      "source": [
        "# What percentage of the time was the High greater than $500 ?\n",
        "df[df['High'] > 500]['Date'].count()\n",
        "porcentagem = (df[df['High'] > 500]['Date'].count() / df['Date'].count()) * 100\n",
        "porcentagem"
      ],
      "execution_count": 9,
      "outputs": [
        {
          "output_type": "execute_result",
          "data": {
            "text/plain": [
              "4.924543288324067"
            ]
          },
          "metadata": {
            "tags": []
          },
          "execution_count": 9
        }
      ]
    },
    {
      "cell_type": "code",
      "metadata": {
        "colab": {
          "base_uri": "https://localhost:8080/"
        },
        "id": "XNqETlwoJwot",
        "outputId": "0e668fba-61a0-4237-f473-03690ab4fbad"
      },
      "source": [
        "#  What is the Pearson correlation between High and Volume?\n",
        "\n",
        "df['High'].corr(df['Volume'])"
      ],
      "execution_count": 11,
      "outputs": [
        {
          "output_type": "execute_result",
          "data": {
            "text/plain": [
              "-0.20960233287942157"
            ]
          },
          "metadata": {
            "tags": []
          },
          "execution_count": 11
        }
      ]
    },
    {
      "cell_type": "code",
      "metadata": {
        "colab": {
          "base_uri": "https://localhost:8080/"
        },
        "id": "2V7epceAKRAw",
        "outputId": "e33e1937-8983-4695-8465-9368cb8b0477"
      },
      "source": [
        "# What is the max High per year?\n",
        "\n",
        "# Para 2011\n",
        "\n",
        "df[df['ano'] == '2011']['High'].max()\n",
        "# Para 2012\n",
        "df[df['ano'] == '2012']['High'].max()\n",
        "# Para 2013\n",
        "df[df['ano'] == '2013']['High'].max()\n",
        "# Para 2014\n",
        "df[df['ano'] == '2014']['High'].max()\n",
        "# Para 2015\n",
        "df[df['ano'] == '2015']['High'].max()\n",
        "# Para 2016\n",
        "df[df['ano'] == '2016']['High'].max()"
      ],
      "execution_count": 41,
      "outputs": [
        {
          "output_type": "execute_result",
          "data": {
            "text/plain": [
              "129.28999299999998"
            ]
          },
          "metadata": {
            "tags": []
          },
          "execution_count": 41
        }
      ]
    },
    {
      "cell_type": "code",
      "metadata": {
        "colab": {
          "base_uri": "https://localhost:8080/"
        },
        "id": "10bLn05wNpqo",
        "outputId": "0fbb2d78-e385-4188-e583-eae7cbc1ae2c"
      },
      "source": [
        "# What is the average Close for each Calender Month?\n",
        "\n",
        "# Para o mes 01\n",
        "\n",
        "df[df['mes'] == '01']['Close'].mean()\n",
        "\n",
        "# Para o mes 02\n",
        "\n",
        "df[df['mes'] == '02']['Close'].mean()\n",
        "\n",
        "# Para o mes 03\n",
        "\n",
        "df[df['mes'] == '03']['Close'].mean()\n",
        "\n",
        "# Para o mes 04\n",
        "\n",
        "df[df['mes'] == '04']['Close'].mean()\n",
        "\n",
        "# Para o mes 05\n",
        "\n",
        "df[df['mes'] == '05']['Close'].mean()\n",
        "\n",
        "# Para o mes 06\n",
        "\n",
        "df[df['mes'] == '06']['Close'].mean()\n",
        "\n",
        "# Para o mes 07\n",
        "\n",
        "df[df['mes'] == '07']['Close'].mean()\n",
        "\n",
        "# Para o mes 08\n",
        "\n",
        "df[df['mes'] == '08']['Close'].mean()\n",
        "\n",
        "# Para o mes 09\n",
        "\n",
        "df[df['mes'] == '09']['Close'].mean()\n",
        "\n",
        "# Para o mes 10\n",
        "\n",
        "df[df['mes'] == '10']['Close'].mean()\n",
        "\n",
        "# Para o mes 11\n",
        "\n",
        "df[df['mes'] == '11']['Close'].mean()\n",
        "\n",
        "# Para o mes 12\n",
        "\n",
        "df[df['mes'] == '12']['Close'].mean()"
      ],
      "execution_count": 45,
      "outputs": [
        {
          "output_type": "execute_result",
          "data": {
            "text/plain": [
              "199.3700942358491"
            ]
          },
          "metadata": {
            "tags": []
          },
          "execution_count": 45
        }
      ]
    },
    {
      "cell_type": "code",
      "metadata": {
        "id": "uLfSO5qZR1oc"
      },
      "source": [
        ""
      ],
      "execution_count": null,
      "outputs": []
    }
  ]
}